{
  "nbformat": 4,
  "nbformat_minor": 0,
  "metadata": {
    "colab": {
      "provenance": [],
      "collapsed_sections": [
        "Qnp4ydewe2Kw"
      ]
    },
    "kernelspec": {
      "name": "python3",
      "display_name": "Python 3"
    },
    "language_info": {
      "name": "python"
    }
  },
  "cells": [
    {
      "cell_type": "code",
      "source": [
        "import pandas as pd\n",
        "from sklearn.decomposition import NMF\n",
        "import numpy as np\n",
        "from sklearn.metrics import average_precision_score\n",
        "import matplotlib.pyplot as plt\n",
        "import seaborn as sns"
      ],
      "metadata": {
        "id": "fWlSV3u5avHn"
      },
      "execution_count": 2,
      "outputs": []
    },
    {
      "cell_type": "markdown",
      "source": [
        "# Update/Create Dataset"
      ],
      "metadata": {
        "id": "Iab0oMllN-_Q"
      }
    },
    {
      "cell_type": "code",
      "source": [
        "shoe_interactions = pd.read_csv('shoe_interactions.csv')\n",
        "\n",
        "\n",
        "num_rows_to_add = np.random.randint(50, 101)\n",
        "\n",
        "# Starting interaction_id for new entries\n",
        "start_interaction_id = 501\n",
        "\n",
        "# Generate new rows\n",
        "new_data = {\n",
        "    'interaction_id': range(start_interaction_id, start_interaction_id + num_rows_to_add),\n",
        "    'id_user': np.random.randint(1, shoe_interactions['id_user'].max() + 1, size=num_rows_to_add),\n",
        "    'shoe_detail_id': np.random.randint(1, 51, size=num_rows_to_add),\n",
        "    'interaction_type': np.random.choice(['view', 'wishlist'], size=num_rows_to_add),\n",
        "    'interaction_date': (pd.to_datetime('now') - pd.to_timedelta(np.random.randint(1, 1000, size=num_rows_to_add), unit='h')).strftime('%m/%d/%Y %H:%M')\n",
        "}\n",
        "\n",
        "# Create a DataFrame for the new rows\n",
        "new_rows_df = pd.DataFrame(new_data)\n",
        "\n",
        "# Append new rows to the existing dataset\n",
        "shoe_interactions_updated = pd.concat([shoe_interactions, new_rows_df], ignore_index=True)\n",
        "\n",
        "# Save the updated dataset to a new CSV file\n",
        "shoe_interactions_updated.to_csv('shoe_interactions_updated.csv', index=False)\n",
        "\n",
        "print(\"New data added successfully. Updated dataset saved as 'shoe_interactions_updated.csv'.\")\n"
      ],
      "metadata": {
        "colab": {
          "base_uri": "https://localhost:8080/"
        },
        "id": "zjnlmkjwOEkQ",
        "outputId": "fb1395f9-6b48-4a7e-f196-2cf600151f99"
      },
      "execution_count": null,
      "outputs": [
        {
          "output_type": "stream",
          "name": "stdout",
          "text": [
            "New data added successfully. Updated dataset saved as 'shoe_interactions_updated.csv'.\n"
          ]
        }
      ]
    },
    {
      "cell_type": "markdown",
      "source": [
        "# Load Dataset"
      ],
      "metadata": {
        "id": "aCwS8Qw5OCUQ"
      }
    },
    {
      "cell_type": "code",
      "source": [
        "sepatu_list = pd.read_csv(\"sepatu_list.csv\")\n",
        "shoe_interactions = pd.read_csv(\"shoe_interactions.csv\")"
      ],
      "metadata": {
        "id": "sgLmt59Cavu1"
      },
      "execution_count": 4,
      "outputs": []
    },
    {
      "cell_type": "markdown",
      "source": [
        "# Exploratory Data Analysis"
      ],
      "metadata": {
        "id": "Qnp4ydewe2Kw"
      }
    },
    {
      "cell_type": "code",
      "source": [
        "# Initial data overview\n",
        "print(\"Sepatu List Dataset:\")\n",
        "display(sepatu_list.info())\n",
        "display(sepatu_list.head())\n",
        "\n",
        "print(\"\\nShoe Interactions Dataset:\")\n",
        "display(shoe_interactions.info())\n",
        "display(shoe_interactions.head())"
      ],
      "metadata": {
        "colab": {
          "base_uri": "https://localhost:8080/",
          "height": 863
        },
        "id": "JdiBVGcne4rj",
        "outputId": "1242713e-e5d7-47a3-efa4-14b594be2740"
      },
      "execution_count": null,
      "outputs": [
        {
          "output_type": "stream",
          "name": "stdout",
          "text": [
            "Sepatu List Dataset:\n",
            "<class 'pandas.core.frame.DataFrame'>\n",
            "RangeIndex: 50 entries, 0 to 49\n",
            "Data columns (total 3 columns):\n",
            " #   Column           Non-Null Count  Dtype \n",
            "---  ------           --------------  ----- \n",
            " 0   sepatu_id        50 non-null     int64 \n",
            " 1   nama_sepatu      50 non-null     object\n",
            " 2   kategori_sepatu  50 non-null     object\n",
            "dtypes: int64(1), object(2)\n",
            "memory usage: 1.3+ KB\n"
          ]
        },
        {
          "output_type": "display_data",
          "data": {
            "text/plain": [
              "None"
            ]
          },
          "metadata": {}
        },
        {
          "output_type": "display_data",
          "data": {
            "text/plain": [
              "   sepatu_id                    nama_sepatu kategori_sepatu\n",
              "0          1       Nokha Boots Harlow Black           Boots\n",
              "1          2  AXEL BROWN Chelsea High Boots           Boots\n",
              "2          3             AP Boots Terra Eco           Boots\n",
              "3          4        Azcost Allison Original           Boots\n",
              "4          5               Parabellum COBRA           Boots"
            ],
            "text/html": [
              "\n",
              "  <div id=\"df-ad8dafe6-9023-410d-a817-be7edc57a775\" class=\"colab-df-container\">\n",
              "    <div>\n",
              "<style scoped>\n",
              "    .dataframe tbody tr th:only-of-type {\n",
              "        vertical-align: middle;\n",
              "    }\n",
              "\n",
              "    .dataframe tbody tr th {\n",
              "        vertical-align: top;\n",
              "    }\n",
              "\n",
              "    .dataframe thead th {\n",
              "        text-align: right;\n",
              "    }\n",
              "</style>\n",
              "<table border=\"1\" class=\"dataframe\">\n",
              "  <thead>\n",
              "    <tr style=\"text-align: right;\">\n",
              "      <th></th>\n",
              "      <th>sepatu_id</th>\n",
              "      <th>nama_sepatu</th>\n",
              "      <th>kategori_sepatu</th>\n",
              "    </tr>\n",
              "  </thead>\n",
              "  <tbody>\n",
              "    <tr>\n",
              "      <th>0</th>\n",
              "      <td>1</td>\n",
              "      <td>Nokha Boots Harlow Black</td>\n",
              "      <td>Boots</td>\n",
              "    </tr>\n",
              "    <tr>\n",
              "      <th>1</th>\n",
              "      <td>2</td>\n",
              "      <td>AXEL BROWN Chelsea High Boots</td>\n",
              "      <td>Boots</td>\n",
              "    </tr>\n",
              "    <tr>\n",
              "      <th>2</th>\n",
              "      <td>3</td>\n",
              "      <td>AP Boots Terra Eco</td>\n",
              "      <td>Boots</td>\n",
              "    </tr>\n",
              "    <tr>\n",
              "      <th>3</th>\n",
              "      <td>4</td>\n",
              "      <td>Azcost Allison Original</td>\n",
              "      <td>Boots</td>\n",
              "    </tr>\n",
              "    <tr>\n",
              "      <th>4</th>\n",
              "      <td>5</td>\n",
              "      <td>Parabellum COBRA</td>\n",
              "      <td>Boots</td>\n",
              "    </tr>\n",
              "  </tbody>\n",
              "</table>\n",
              "</div>\n",
              "    <div class=\"colab-df-buttons\">\n",
              "\n",
              "  <div class=\"colab-df-container\">\n",
              "    <button class=\"colab-df-convert\" onclick=\"convertToInteractive('df-ad8dafe6-9023-410d-a817-be7edc57a775')\"\n",
              "            title=\"Convert this dataframe to an interactive table.\"\n",
              "            style=\"display:none;\">\n",
              "\n",
              "  <svg xmlns=\"http://www.w3.org/2000/svg\" height=\"24px\" viewBox=\"0 -960 960 960\">\n",
              "    <path d=\"M120-120v-720h720v720H120Zm60-500h600v-160H180v160Zm220 220h160v-160H400v160Zm0 220h160v-160H400v160ZM180-400h160v-160H180v160Zm440 0h160v-160H620v160ZM180-180h160v-160H180v160Zm440 0h160v-160H620v160Z\"/>\n",
              "  </svg>\n",
              "    </button>\n",
              "\n",
              "  <style>\n",
              "    .colab-df-container {\n",
              "      display:flex;\n",
              "      gap: 12px;\n",
              "    }\n",
              "\n",
              "    .colab-df-convert {\n",
              "      background-color: #E8F0FE;\n",
              "      border: none;\n",
              "      border-radius: 50%;\n",
              "      cursor: pointer;\n",
              "      display: none;\n",
              "      fill: #1967D2;\n",
              "      height: 32px;\n",
              "      padding: 0 0 0 0;\n",
              "      width: 32px;\n",
              "    }\n",
              "\n",
              "    .colab-df-convert:hover {\n",
              "      background-color: #E2EBFA;\n",
              "      box-shadow: 0px 1px 2px rgba(60, 64, 67, 0.3), 0px 1px 3px 1px rgba(60, 64, 67, 0.15);\n",
              "      fill: #174EA6;\n",
              "    }\n",
              "\n",
              "    .colab-df-buttons div {\n",
              "      margin-bottom: 4px;\n",
              "    }\n",
              "\n",
              "    [theme=dark] .colab-df-convert {\n",
              "      background-color: #3B4455;\n",
              "      fill: #D2E3FC;\n",
              "    }\n",
              "\n",
              "    [theme=dark] .colab-df-convert:hover {\n",
              "      background-color: #434B5C;\n",
              "      box-shadow: 0px 1px 3px 1px rgba(0, 0, 0, 0.15);\n",
              "      filter: drop-shadow(0px 1px 2px rgba(0, 0, 0, 0.3));\n",
              "      fill: #FFFFFF;\n",
              "    }\n",
              "  </style>\n",
              "\n",
              "    <script>\n",
              "      const buttonEl =\n",
              "        document.querySelector('#df-ad8dafe6-9023-410d-a817-be7edc57a775 button.colab-df-convert');\n",
              "      buttonEl.style.display =\n",
              "        google.colab.kernel.accessAllowed ? 'block' : 'none';\n",
              "\n",
              "      async function convertToInteractive(key) {\n",
              "        const element = document.querySelector('#df-ad8dafe6-9023-410d-a817-be7edc57a775');\n",
              "        const dataTable =\n",
              "          await google.colab.kernel.invokeFunction('convertToInteractive',\n",
              "                                                    [key], {});\n",
              "        if (!dataTable) return;\n",
              "\n",
              "        const docLinkHtml = 'Like what you see? Visit the ' +\n",
              "          '<a target=\"_blank\" href=https://colab.research.google.com/notebooks/data_table.ipynb>data table notebook</a>'\n",
              "          + ' to learn more about interactive tables.';\n",
              "        element.innerHTML = '';\n",
              "        dataTable['output_type'] = 'display_data';\n",
              "        await google.colab.output.renderOutput(dataTable, element);\n",
              "        const docLink = document.createElement('div');\n",
              "        docLink.innerHTML = docLinkHtml;\n",
              "        element.appendChild(docLink);\n",
              "      }\n",
              "    </script>\n",
              "  </div>\n",
              "\n",
              "\n",
              "<div id=\"df-bb143e0b-5f85-4e57-a6c6-e0c0a427fb50\">\n",
              "  <button class=\"colab-df-quickchart\" onclick=\"quickchart('df-bb143e0b-5f85-4e57-a6c6-e0c0a427fb50')\"\n",
              "            title=\"Suggest charts\"\n",
              "            style=\"display:none;\">\n",
              "\n",
              "<svg xmlns=\"http://www.w3.org/2000/svg\" height=\"24px\"viewBox=\"0 0 24 24\"\n",
              "     width=\"24px\">\n",
              "    <g>\n",
              "        <path d=\"M19 3H5c-1.1 0-2 .9-2 2v14c0 1.1.9 2 2 2h14c1.1 0 2-.9 2-2V5c0-1.1-.9-2-2-2zM9 17H7v-7h2v7zm4 0h-2V7h2v10zm4 0h-2v-4h2v4z\"/>\n",
              "    </g>\n",
              "</svg>\n",
              "  </button>\n",
              "\n",
              "<style>\n",
              "  .colab-df-quickchart {\n",
              "      --bg-color: #E8F0FE;\n",
              "      --fill-color: #1967D2;\n",
              "      --hover-bg-color: #E2EBFA;\n",
              "      --hover-fill-color: #174EA6;\n",
              "      --disabled-fill-color: #AAA;\n",
              "      --disabled-bg-color: #DDD;\n",
              "  }\n",
              "\n",
              "  [theme=dark] .colab-df-quickchart {\n",
              "      --bg-color: #3B4455;\n",
              "      --fill-color: #D2E3FC;\n",
              "      --hover-bg-color: #434B5C;\n",
              "      --hover-fill-color: #FFFFFF;\n",
              "      --disabled-bg-color: #3B4455;\n",
              "      --disabled-fill-color: #666;\n",
              "  }\n",
              "\n",
              "  .colab-df-quickchart {\n",
              "    background-color: var(--bg-color);\n",
              "    border: none;\n",
              "    border-radius: 50%;\n",
              "    cursor: pointer;\n",
              "    display: none;\n",
              "    fill: var(--fill-color);\n",
              "    height: 32px;\n",
              "    padding: 0;\n",
              "    width: 32px;\n",
              "  }\n",
              "\n",
              "  .colab-df-quickchart:hover {\n",
              "    background-color: var(--hover-bg-color);\n",
              "    box-shadow: 0 1px 2px rgba(60, 64, 67, 0.3), 0 1px 3px 1px rgba(60, 64, 67, 0.15);\n",
              "    fill: var(--button-hover-fill-color);\n",
              "  }\n",
              "\n",
              "  .colab-df-quickchart-complete:disabled,\n",
              "  .colab-df-quickchart-complete:disabled:hover {\n",
              "    background-color: var(--disabled-bg-color);\n",
              "    fill: var(--disabled-fill-color);\n",
              "    box-shadow: none;\n",
              "  }\n",
              "\n",
              "  .colab-df-spinner {\n",
              "    border: 2px solid var(--fill-color);\n",
              "    border-color: transparent;\n",
              "    border-bottom-color: var(--fill-color);\n",
              "    animation:\n",
              "      spin 1s steps(1) infinite;\n",
              "  }\n",
              "\n",
              "  @keyframes spin {\n",
              "    0% {\n",
              "      border-color: transparent;\n",
              "      border-bottom-color: var(--fill-color);\n",
              "      border-left-color: var(--fill-color);\n",
              "    }\n",
              "    20% {\n",
              "      border-color: transparent;\n",
              "      border-left-color: var(--fill-color);\n",
              "      border-top-color: var(--fill-color);\n",
              "    }\n",
              "    30% {\n",
              "      border-color: transparent;\n",
              "      border-left-color: var(--fill-color);\n",
              "      border-top-color: var(--fill-color);\n",
              "      border-right-color: var(--fill-color);\n",
              "    }\n",
              "    40% {\n",
              "      border-color: transparent;\n",
              "      border-right-color: var(--fill-color);\n",
              "      border-top-color: var(--fill-color);\n",
              "    }\n",
              "    60% {\n",
              "      border-color: transparent;\n",
              "      border-right-color: var(--fill-color);\n",
              "    }\n",
              "    80% {\n",
              "      border-color: transparent;\n",
              "      border-right-color: var(--fill-color);\n",
              "      border-bottom-color: var(--fill-color);\n",
              "    }\n",
              "    90% {\n",
              "      border-color: transparent;\n",
              "      border-bottom-color: var(--fill-color);\n",
              "    }\n",
              "  }\n",
              "</style>\n",
              "\n",
              "  <script>\n",
              "    async function quickchart(key) {\n",
              "      const quickchartButtonEl =\n",
              "        document.querySelector('#' + key + ' button');\n",
              "      quickchartButtonEl.disabled = true;  // To prevent multiple clicks.\n",
              "      quickchartButtonEl.classList.add('colab-df-spinner');\n",
              "      try {\n",
              "        const charts = await google.colab.kernel.invokeFunction(\n",
              "            'suggestCharts', [key], {});\n",
              "      } catch (error) {\n",
              "        console.error('Error during call to suggestCharts:', error);\n",
              "      }\n",
              "      quickchartButtonEl.classList.remove('colab-df-spinner');\n",
              "      quickchartButtonEl.classList.add('colab-df-quickchart-complete');\n",
              "    }\n",
              "    (() => {\n",
              "      let quickchartButtonEl =\n",
              "        document.querySelector('#df-bb143e0b-5f85-4e57-a6c6-e0c0a427fb50 button');\n",
              "      quickchartButtonEl.style.display =\n",
              "        google.colab.kernel.accessAllowed ? 'block' : 'none';\n",
              "    })();\n",
              "  </script>\n",
              "</div>\n",
              "\n",
              "    </div>\n",
              "  </div>\n"
            ],
            "application/vnd.google.colaboratory.intrinsic+json": {
              "type": "dataframe",
              "summary": "{\n  \"name\": \"display(shoe_interactions\",\n  \"rows\": 5,\n  \"fields\": [\n    {\n      \"column\": \"sepatu_id\",\n      \"properties\": {\n        \"dtype\": \"number\",\n        \"std\": 1,\n        \"min\": 1,\n        \"max\": 5,\n        \"num_unique_values\": 5,\n        \"samples\": [\n          2,\n          5,\n          3\n        ],\n        \"semantic_type\": \"\",\n        \"description\": \"\"\n      }\n    },\n    {\n      \"column\": \"nama_sepatu\",\n      \"properties\": {\n        \"dtype\": \"string\",\n        \"num_unique_values\": 5,\n        \"samples\": [\n          \"AXEL BROWN Chelsea High Boots\",\n          \"Parabellum COBRA\",\n          \"AP Boots Terra Eco\"\n        ],\n        \"semantic_type\": \"\",\n        \"description\": \"\"\n      }\n    },\n    {\n      \"column\": \"kategori_sepatu\",\n      \"properties\": {\n        \"dtype\": \"category\",\n        \"num_unique_values\": 1,\n        \"samples\": [\n          \"Boots\"\n        ],\n        \"semantic_type\": \"\",\n        \"description\": \"\"\n      }\n    }\n  ]\n}"
            }
          },
          "metadata": {}
        },
        {
          "output_type": "stream",
          "name": "stdout",
          "text": [
            "\n",
            "Shoe Interactions Dataset:\n",
            "<class 'pandas.core.frame.DataFrame'>\n",
            "RangeIndex: 500 entries, 0 to 499\n",
            "Data columns (total 5 columns):\n",
            " #   Column            Non-Null Count  Dtype \n",
            "---  ------            --------------  ----- \n",
            " 0   interaction_id    500 non-null    int64 \n",
            " 1   id_user           500 non-null    int64 \n",
            " 2   shoe_detail_id    500 non-null    int64 \n",
            " 3   interaction_type  500 non-null    object\n",
            " 4   interaction_date  500 non-null    object\n",
            "dtypes: int64(3), object(2)\n",
            "memory usage: 19.7+ KB\n"
          ]
        },
        {
          "output_type": "display_data",
          "data": {
            "text/plain": [
              "None"
            ]
          },
          "metadata": {}
        },
        {
          "output_type": "display_data",
          "data": {
            "text/plain": [
              "   interaction_id  id_user  shoe_detail_id interaction_type  interaction_date\n",
              "0               1        1              33         wishlist  10/23/2024 14:53\n",
              "1               2       13              16             view  10/23/2024 23:13\n",
              "2               3        2              37         wishlist  10/22/2024 10:42\n",
              "3               4        8              30             view   10/22/2024 9:13\n",
              "4               5       19              45             view  10/22/2024 19:19"
            ],
            "text/html": [
              "\n",
              "  <div id=\"df-ec1aedc9-a934-4945-b3de-82e501e5769c\" class=\"colab-df-container\">\n",
              "    <div>\n",
              "<style scoped>\n",
              "    .dataframe tbody tr th:only-of-type {\n",
              "        vertical-align: middle;\n",
              "    }\n",
              "\n",
              "    .dataframe tbody tr th {\n",
              "        vertical-align: top;\n",
              "    }\n",
              "\n",
              "    .dataframe thead th {\n",
              "        text-align: right;\n",
              "    }\n",
              "</style>\n",
              "<table border=\"1\" class=\"dataframe\">\n",
              "  <thead>\n",
              "    <tr style=\"text-align: right;\">\n",
              "      <th></th>\n",
              "      <th>interaction_id</th>\n",
              "      <th>id_user</th>\n",
              "      <th>shoe_detail_id</th>\n",
              "      <th>interaction_type</th>\n",
              "      <th>interaction_date</th>\n",
              "    </tr>\n",
              "  </thead>\n",
              "  <tbody>\n",
              "    <tr>\n",
              "      <th>0</th>\n",
              "      <td>1</td>\n",
              "      <td>1</td>\n",
              "      <td>33</td>\n",
              "      <td>wishlist</td>\n",
              "      <td>10/23/2024 14:53</td>\n",
              "    </tr>\n",
              "    <tr>\n",
              "      <th>1</th>\n",
              "      <td>2</td>\n",
              "      <td>13</td>\n",
              "      <td>16</td>\n",
              "      <td>view</td>\n",
              "      <td>10/23/2024 23:13</td>\n",
              "    </tr>\n",
              "    <tr>\n",
              "      <th>2</th>\n",
              "      <td>3</td>\n",
              "      <td>2</td>\n",
              "      <td>37</td>\n",
              "      <td>wishlist</td>\n",
              "      <td>10/22/2024 10:42</td>\n",
              "    </tr>\n",
              "    <tr>\n",
              "      <th>3</th>\n",
              "      <td>4</td>\n",
              "      <td>8</td>\n",
              "      <td>30</td>\n",
              "      <td>view</td>\n",
              "      <td>10/22/2024 9:13</td>\n",
              "    </tr>\n",
              "    <tr>\n",
              "      <th>4</th>\n",
              "      <td>5</td>\n",
              "      <td>19</td>\n",
              "      <td>45</td>\n",
              "      <td>view</td>\n",
              "      <td>10/22/2024 19:19</td>\n",
              "    </tr>\n",
              "  </tbody>\n",
              "</table>\n",
              "</div>\n",
              "    <div class=\"colab-df-buttons\">\n",
              "\n",
              "  <div class=\"colab-df-container\">\n",
              "    <button class=\"colab-df-convert\" onclick=\"convertToInteractive('df-ec1aedc9-a934-4945-b3de-82e501e5769c')\"\n",
              "            title=\"Convert this dataframe to an interactive table.\"\n",
              "            style=\"display:none;\">\n",
              "\n",
              "  <svg xmlns=\"http://www.w3.org/2000/svg\" height=\"24px\" viewBox=\"0 -960 960 960\">\n",
              "    <path d=\"M120-120v-720h720v720H120Zm60-500h600v-160H180v160Zm220 220h160v-160H400v160Zm0 220h160v-160H400v160ZM180-400h160v-160H180v160Zm440 0h160v-160H620v160ZM180-180h160v-160H180v160Zm440 0h160v-160H620v160Z\"/>\n",
              "  </svg>\n",
              "    </button>\n",
              "\n",
              "  <style>\n",
              "    .colab-df-container {\n",
              "      display:flex;\n",
              "      gap: 12px;\n",
              "    }\n",
              "\n",
              "    .colab-df-convert {\n",
              "      background-color: #E8F0FE;\n",
              "      border: none;\n",
              "      border-radius: 50%;\n",
              "      cursor: pointer;\n",
              "      display: none;\n",
              "      fill: #1967D2;\n",
              "      height: 32px;\n",
              "      padding: 0 0 0 0;\n",
              "      width: 32px;\n",
              "    }\n",
              "\n",
              "    .colab-df-convert:hover {\n",
              "      background-color: #E2EBFA;\n",
              "      box-shadow: 0px 1px 2px rgba(60, 64, 67, 0.3), 0px 1px 3px 1px rgba(60, 64, 67, 0.15);\n",
              "      fill: #174EA6;\n",
              "    }\n",
              "\n",
              "    .colab-df-buttons div {\n",
              "      margin-bottom: 4px;\n",
              "    }\n",
              "\n",
              "    [theme=dark] .colab-df-convert {\n",
              "      background-color: #3B4455;\n",
              "      fill: #D2E3FC;\n",
              "    }\n",
              "\n",
              "    [theme=dark] .colab-df-convert:hover {\n",
              "      background-color: #434B5C;\n",
              "      box-shadow: 0px 1px 3px 1px rgba(0, 0, 0, 0.15);\n",
              "      filter: drop-shadow(0px 1px 2px rgba(0, 0, 0, 0.3));\n",
              "      fill: #FFFFFF;\n",
              "    }\n",
              "  </style>\n",
              "\n",
              "    <script>\n",
              "      const buttonEl =\n",
              "        document.querySelector('#df-ec1aedc9-a934-4945-b3de-82e501e5769c button.colab-df-convert');\n",
              "      buttonEl.style.display =\n",
              "        google.colab.kernel.accessAllowed ? 'block' : 'none';\n",
              "\n",
              "      async function convertToInteractive(key) {\n",
              "        const element = document.querySelector('#df-ec1aedc9-a934-4945-b3de-82e501e5769c');\n",
              "        const dataTable =\n",
              "          await google.colab.kernel.invokeFunction('convertToInteractive',\n",
              "                                                    [key], {});\n",
              "        if (!dataTable) return;\n",
              "\n",
              "        const docLinkHtml = 'Like what you see? Visit the ' +\n",
              "          '<a target=\"_blank\" href=https://colab.research.google.com/notebooks/data_table.ipynb>data table notebook</a>'\n",
              "          + ' to learn more about interactive tables.';\n",
              "        element.innerHTML = '';\n",
              "        dataTable['output_type'] = 'display_data';\n",
              "        await google.colab.output.renderOutput(dataTable, element);\n",
              "        const docLink = document.createElement('div');\n",
              "        docLink.innerHTML = docLinkHtml;\n",
              "        element.appendChild(docLink);\n",
              "      }\n",
              "    </script>\n",
              "  </div>\n",
              "\n",
              "\n",
              "<div id=\"df-31121c66-b000-481d-ab15-0c2e1a7f1633\">\n",
              "  <button class=\"colab-df-quickchart\" onclick=\"quickchart('df-31121c66-b000-481d-ab15-0c2e1a7f1633')\"\n",
              "            title=\"Suggest charts\"\n",
              "            style=\"display:none;\">\n",
              "\n",
              "<svg xmlns=\"http://www.w3.org/2000/svg\" height=\"24px\"viewBox=\"0 0 24 24\"\n",
              "     width=\"24px\">\n",
              "    <g>\n",
              "        <path d=\"M19 3H5c-1.1 0-2 .9-2 2v14c0 1.1.9 2 2 2h14c1.1 0 2-.9 2-2V5c0-1.1-.9-2-2-2zM9 17H7v-7h2v7zm4 0h-2V7h2v10zm4 0h-2v-4h2v4z\"/>\n",
              "    </g>\n",
              "</svg>\n",
              "  </button>\n",
              "\n",
              "<style>\n",
              "  .colab-df-quickchart {\n",
              "      --bg-color: #E8F0FE;\n",
              "      --fill-color: #1967D2;\n",
              "      --hover-bg-color: #E2EBFA;\n",
              "      --hover-fill-color: #174EA6;\n",
              "      --disabled-fill-color: #AAA;\n",
              "      --disabled-bg-color: #DDD;\n",
              "  }\n",
              "\n",
              "  [theme=dark] .colab-df-quickchart {\n",
              "      --bg-color: #3B4455;\n",
              "      --fill-color: #D2E3FC;\n",
              "      --hover-bg-color: #434B5C;\n",
              "      --hover-fill-color: #FFFFFF;\n",
              "      --disabled-bg-color: #3B4455;\n",
              "      --disabled-fill-color: #666;\n",
              "  }\n",
              "\n",
              "  .colab-df-quickchart {\n",
              "    background-color: var(--bg-color);\n",
              "    border: none;\n",
              "    border-radius: 50%;\n",
              "    cursor: pointer;\n",
              "    display: none;\n",
              "    fill: var(--fill-color);\n",
              "    height: 32px;\n",
              "    padding: 0;\n",
              "    width: 32px;\n",
              "  }\n",
              "\n",
              "  .colab-df-quickchart:hover {\n",
              "    background-color: var(--hover-bg-color);\n",
              "    box-shadow: 0 1px 2px rgba(60, 64, 67, 0.3), 0 1px 3px 1px rgba(60, 64, 67, 0.15);\n",
              "    fill: var(--button-hover-fill-color);\n",
              "  }\n",
              "\n",
              "  .colab-df-quickchart-complete:disabled,\n",
              "  .colab-df-quickchart-complete:disabled:hover {\n",
              "    background-color: var(--disabled-bg-color);\n",
              "    fill: var(--disabled-fill-color);\n",
              "    box-shadow: none;\n",
              "  }\n",
              "\n",
              "  .colab-df-spinner {\n",
              "    border: 2px solid var(--fill-color);\n",
              "    border-color: transparent;\n",
              "    border-bottom-color: var(--fill-color);\n",
              "    animation:\n",
              "      spin 1s steps(1) infinite;\n",
              "  }\n",
              "\n",
              "  @keyframes spin {\n",
              "    0% {\n",
              "      border-color: transparent;\n",
              "      border-bottom-color: var(--fill-color);\n",
              "      border-left-color: var(--fill-color);\n",
              "    }\n",
              "    20% {\n",
              "      border-color: transparent;\n",
              "      border-left-color: var(--fill-color);\n",
              "      border-top-color: var(--fill-color);\n",
              "    }\n",
              "    30% {\n",
              "      border-color: transparent;\n",
              "      border-left-color: var(--fill-color);\n",
              "      border-top-color: var(--fill-color);\n",
              "      border-right-color: var(--fill-color);\n",
              "    }\n",
              "    40% {\n",
              "      border-color: transparent;\n",
              "      border-right-color: var(--fill-color);\n",
              "      border-top-color: var(--fill-color);\n",
              "    }\n",
              "    60% {\n",
              "      border-color: transparent;\n",
              "      border-right-color: var(--fill-color);\n",
              "    }\n",
              "    80% {\n",
              "      border-color: transparent;\n",
              "      border-right-color: var(--fill-color);\n",
              "      border-bottom-color: var(--fill-color);\n",
              "    }\n",
              "    90% {\n",
              "      border-color: transparent;\n",
              "      border-bottom-color: var(--fill-color);\n",
              "    }\n",
              "  }\n",
              "</style>\n",
              "\n",
              "  <script>\n",
              "    async function quickchart(key) {\n",
              "      const quickchartButtonEl =\n",
              "        document.querySelector('#' + key + ' button');\n",
              "      quickchartButtonEl.disabled = true;  // To prevent multiple clicks.\n",
              "      quickchartButtonEl.classList.add('colab-df-spinner');\n",
              "      try {\n",
              "        const charts = await google.colab.kernel.invokeFunction(\n",
              "            'suggestCharts', [key], {});\n",
              "      } catch (error) {\n",
              "        console.error('Error during call to suggestCharts:', error);\n",
              "      }\n",
              "      quickchartButtonEl.classList.remove('colab-df-spinner');\n",
              "      quickchartButtonEl.classList.add('colab-df-quickchart-complete');\n",
              "    }\n",
              "    (() => {\n",
              "      let quickchartButtonEl =\n",
              "        document.querySelector('#df-31121c66-b000-481d-ab15-0c2e1a7f1633 button');\n",
              "      quickchartButtonEl.style.display =\n",
              "        google.colab.kernel.accessAllowed ? 'block' : 'none';\n",
              "    })();\n",
              "  </script>\n",
              "</div>\n",
              "\n",
              "    </div>\n",
              "  </div>\n"
            ],
            "application/vnd.google.colaboratory.intrinsic+json": {
              "type": "dataframe",
              "summary": "{\n  \"name\": \"display(shoe_interactions\",\n  \"rows\": 5,\n  \"fields\": [\n    {\n      \"column\": \"interaction_id\",\n      \"properties\": {\n        \"dtype\": \"number\",\n        \"std\": 1,\n        \"min\": 1,\n        \"max\": 5,\n        \"num_unique_values\": 5,\n        \"samples\": [\n          2,\n          5,\n          3\n        ],\n        \"semantic_type\": \"\",\n        \"description\": \"\"\n      }\n    },\n    {\n      \"column\": \"id_user\",\n      \"properties\": {\n        \"dtype\": \"number\",\n        \"std\": 7,\n        \"min\": 1,\n        \"max\": 19,\n        \"num_unique_values\": 5,\n        \"samples\": [\n          13,\n          19,\n          2\n        ],\n        \"semantic_type\": \"\",\n        \"description\": \"\"\n      }\n    },\n    {\n      \"column\": \"shoe_detail_id\",\n      \"properties\": {\n        \"dtype\": \"number\",\n        \"std\": 10,\n        \"min\": 16,\n        \"max\": 45,\n        \"num_unique_values\": 5,\n        \"samples\": [\n          16,\n          45,\n          37\n        ],\n        \"semantic_type\": \"\",\n        \"description\": \"\"\n      }\n    },\n    {\n      \"column\": \"interaction_type\",\n      \"properties\": {\n        \"dtype\": \"category\",\n        \"num_unique_values\": 2,\n        \"samples\": [\n          \"view\",\n          \"wishlist\"\n        ],\n        \"semantic_type\": \"\",\n        \"description\": \"\"\n      }\n    },\n    {\n      \"column\": \"interaction_date\",\n      \"properties\": {\n        \"dtype\": \"object\",\n        \"num_unique_values\": 5,\n        \"samples\": [\n          \"10/23/2024 23:13\",\n          \"10/22/2024 19:19\"\n        ],\n        \"semantic_type\": \"\",\n        \"description\": \"\"\n      }\n    }\n  ]\n}"
            }
          },
          "metadata": {}
        }
      ]
    },
    {
      "cell_type": "code",
      "source": [
        "# Checking for missing values\n",
        "print(\"\\nMissing values in sepatu_list:\")\n",
        "print(sepatu_list.isnull().sum())\n",
        "\n",
        "print(\"\\nMissing values in shoe_interactions:\")\n",
        "print(shoe_interactions.isnull().sum())\n",
        "\n",
        "# Basic statistics of interaction data\n",
        "print(\"\\nStatistical Summary of Shoe Interactions:\")\n",
        "display(shoe_interactions.describe())"
      ],
      "metadata": {
        "colab": {
          "base_uri": "https://localhost:8080/",
          "height": 578
        },
        "id": "Z9QzD-kue_mW",
        "outputId": "5492e4c5-72d8-4438-8615-aa556c950b6a"
      },
      "execution_count": null,
      "outputs": [
        {
          "output_type": "stream",
          "name": "stdout",
          "text": [
            "\n",
            "Missing values in sepatu_list:\n",
            "sepatu_id          0\n",
            "nama_sepatu        0\n",
            "kategori_sepatu    0\n",
            "dtype: int64\n",
            "\n",
            "Missing values in shoe_interactions:\n",
            "interaction_id      0\n",
            "id_user             0\n",
            "shoe_detail_id      0\n",
            "interaction_type    0\n",
            "interaction_date    0\n",
            "dtype: int64\n",
            "\n",
            "Statistical Summary of Shoe Interactions:\n"
          ]
        },
        {
          "output_type": "display_data",
          "data": {
            "text/plain": [
              "       interaction_id     id_user  shoe_detail_id\n",
              "count      500.000000  500.000000      500.000000\n",
              "mean       250.500000   10.378000       24.836000\n",
              "std        144.481833    5.487745       14.506757\n",
              "min          1.000000    1.000000        1.000000\n",
              "25%        125.750000    6.000000       12.000000\n",
              "50%        250.500000   10.000000       25.000000\n",
              "75%        375.250000   15.000000       37.000000\n",
              "max        500.000000   20.000000       50.000000"
            ],
            "text/html": [
              "\n",
              "  <div id=\"df-34cf7177-79db-435a-9b18-bbe4c1f5ecbc\" class=\"colab-df-container\">\n",
              "    <div>\n",
              "<style scoped>\n",
              "    .dataframe tbody tr th:only-of-type {\n",
              "        vertical-align: middle;\n",
              "    }\n",
              "\n",
              "    .dataframe tbody tr th {\n",
              "        vertical-align: top;\n",
              "    }\n",
              "\n",
              "    .dataframe thead th {\n",
              "        text-align: right;\n",
              "    }\n",
              "</style>\n",
              "<table border=\"1\" class=\"dataframe\">\n",
              "  <thead>\n",
              "    <tr style=\"text-align: right;\">\n",
              "      <th></th>\n",
              "      <th>interaction_id</th>\n",
              "      <th>id_user</th>\n",
              "      <th>shoe_detail_id</th>\n",
              "    </tr>\n",
              "  </thead>\n",
              "  <tbody>\n",
              "    <tr>\n",
              "      <th>count</th>\n",
              "      <td>500.000000</td>\n",
              "      <td>500.000000</td>\n",
              "      <td>500.000000</td>\n",
              "    </tr>\n",
              "    <tr>\n",
              "      <th>mean</th>\n",
              "      <td>250.500000</td>\n",
              "      <td>10.378000</td>\n",
              "      <td>24.836000</td>\n",
              "    </tr>\n",
              "    <tr>\n",
              "      <th>std</th>\n",
              "      <td>144.481833</td>\n",
              "      <td>5.487745</td>\n",
              "      <td>14.506757</td>\n",
              "    </tr>\n",
              "    <tr>\n",
              "      <th>min</th>\n",
              "      <td>1.000000</td>\n",
              "      <td>1.000000</td>\n",
              "      <td>1.000000</td>\n",
              "    </tr>\n",
              "    <tr>\n",
              "      <th>25%</th>\n",
              "      <td>125.750000</td>\n",
              "      <td>6.000000</td>\n",
              "      <td>12.000000</td>\n",
              "    </tr>\n",
              "    <tr>\n",
              "      <th>50%</th>\n",
              "      <td>250.500000</td>\n",
              "      <td>10.000000</td>\n",
              "      <td>25.000000</td>\n",
              "    </tr>\n",
              "    <tr>\n",
              "      <th>75%</th>\n",
              "      <td>375.250000</td>\n",
              "      <td>15.000000</td>\n",
              "      <td>37.000000</td>\n",
              "    </tr>\n",
              "    <tr>\n",
              "      <th>max</th>\n",
              "      <td>500.000000</td>\n",
              "      <td>20.000000</td>\n",
              "      <td>50.000000</td>\n",
              "    </tr>\n",
              "  </tbody>\n",
              "</table>\n",
              "</div>\n",
              "    <div class=\"colab-df-buttons\">\n",
              "\n",
              "  <div class=\"colab-df-container\">\n",
              "    <button class=\"colab-df-convert\" onclick=\"convertToInteractive('df-34cf7177-79db-435a-9b18-bbe4c1f5ecbc')\"\n",
              "            title=\"Convert this dataframe to an interactive table.\"\n",
              "            style=\"display:none;\">\n",
              "\n",
              "  <svg xmlns=\"http://www.w3.org/2000/svg\" height=\"24px\" viewBox=\"0 -960 960 960\">\n",
              "    <path d=\"M120-120v-720h720v720H120Zm60-500h600v-160H180v160Zm220 220h160v-160H400v160Zm0 220h160v-160H400v160ZM180-400h160v-160H180v160Zm440 0h160v-160H620v160ZM180-180h160v-160H180v160Zm440 0h160v-160H620v160Z\"/>\n",
              "  </svg>\n",
              "    </button>\n",
              "\n",
              "  <style>\n",
              "    .colab-df-container {\n",
              "      display:flex;\n",
              "      gap: 12px;\n",
              "    }\n",
              "\n",
              "    .colab-df-convert {\n",
              "      background-color: #E8F0FE;\n",
              "      border: none;\n",
              "      border-radius: 50%;\n",
              "      cursor: pointer;\n",
              "      display: none;\n",
              "      fill: #1967D2;\n",
              "      height: 32px;\n",
              "      padding: 0 0 0 0;\n",
              "      width: 32px;\n",
              "    }\n",
              "\n",
              "    .colab-df-convert:hover {\n",
              "      background-color: #E2EBFA;\n",
              "      box-shadow: 0px 1px 2px rgba(60, 64, 67, 0.3), 0px 1px 3px 1px rgba(60, 64, 67, 0.15);\n",
              "      fill: #174EA6;\n",
              "    }\n",
              "\n",
              "    .colab-df-buttons div {\n",
              "      margin-bottom: 4px;\n",
              "    }\n",
              "\n",
              "    [theme=dark] .colab-df-convert {\n",
              "      background-color: #3B4455;\n",
              "      fill: #D2E3FC;\n",
              "    }\n",
              "\n",
              "    [theme=dark] .colab-df-convert:hover {\n",
              "      background-color: #434B5C;\n",
              "      box-shadow: 0px 1px 3px 1px rgba(0, 0, 0, 0.15);\n",
              "      filter: drop-shadow(0px 1px 2px rgba(0, 0, 0, 0.3));\n",
              "      fill: #FFFFFF;\n",
              "    }\n",
              "  </style>\n",
              "\n",
              "    <script>\n",
              "      const buttonEl =\n",
              "        document.querySelector('#df-34cf7177-79db-435a-9b18-bbe4c1f5ecbc button.colab-df-convert');\n",
              "      buttonEl.style.display =\n",
              "        google.colab.kernel.accessAllowed ? 'block' : 'none';\n",
              "\n",
              "      async function convertToInteractive(key) {\n",
              "        const element = document.querySelector('#df-34cf7177-79db-435a-9b18-bbe4c1f5ecbc');\n",
              "        const dataTable =\n",
              "          await google.colab.kernel.invokeFunction('convertToInteractive',\n",
              "                                                    [key], {});\n",
              "        if (!dataTable) return;\n",
              "\n",
              "        const docLinkHtml = 'Like what you see? Visit the ' +\n",
              "          '<a target=\"_blank\" href=https://colab.research.google.com/notebooks/data_table.ipynb>data table notebook</a>'\n",
              "          + ' to learn more about interactive tables.';\n",
              "        element.innerHTML = '';\n",
              "        dataTable['output_type'] = 'display_data';\n",
              "        await google.colab.output.renderOutput(dataTable, element);\n",
              "        const docLink = document.createElement('div');\n",
              "        docLink.innerHTML = docLinkHtml;\n",
              "        element.appendChild(docLink);\n",
              "      }\n",
              "    </script>\n",
              "  </div>\n",
              "\n",
              "\n",
              "<div id=\"df-85953f78-50d1-43ae-b7c4-d798f268351a\">\n",
              "  <button class=\"colab-df-quickchart\" onclick=\"quickchart('df-85953f78-50d1-43ae-b7c4-d798f268351a')\"\n",
              "            title=\"Suggest charts\"\n",
              "            style=\"display:none;\">\n",
              "\n",
              "<svg xmlns=\"http://www.w3.org/2000/svg\" height=\"24px\"viewBox=\"0 0 24 24\"\n",
              "     width=\"24px\">\n",
              "    <g>\n",
              "        <path d=\"M19 3H5c-1.1 0-2 .9-2 2v14c0 1.1.9 2 2 2h14c1.1 0 2-.9 2-2V5c0-1.1-.9-2-2-2zM9 17H7v-7h2v7zm4 0h-2V7h2v10zm4 0h-2v-4h2v4z\"/>\n",
              "    </g>\n",
              "</svg>\n",
              "  </button>\n",
              "\n",
              "<style>\n",
              "  .colab-df-quickchart {\n",
              "      --bg-color: #E8F0FE;\n",
              "      --fill-color: #1967D2;\n",
              "      --hover-bg-color: #E2EBFA;\n",
              "      --hover-fill-color: #174EA6;\n",
              "      --disabled-fill-color: #AAA;\n",
              "      --disabled-bg-color: #DDD;\n",
              "  }\n",
              "\n",
              "  [theme=dark] .colab-df-quickchart {\n",
              "      --bg-color: #3B4455;\n",
              "      --fill-color: #D2E3FC;\n",
              "      --hover-bg-color: #434B5C;\n",
              "      --hover-fill-color: #FFFFFF;\n",
              "      --disabled-bg-color: #3B4455;\n",
              "      --disabled-fill-color: #666;\n",
              "  }\n",
              "\n",
              "  .colab-df-quickchart {\n",
              "    background-color: var(--bg-color);\n",
              "    border: none;\n",
              "    border-radius: 50%;\n",
              "    cursor: pointer;\n",
              "    display: none;\n",
              "    fill: var(--fill-color);\n",
              "    height: 32px;\n",
              "    padding: 0;\n",
              "    width: 32px;\n",
              "  }\n",
              "\n",
              "  .colab-df-quickchart:hover {\n",
              "    background-color: var(--hover-bg-color);\n",
              "    box-shadow: 0 1px 2px rgba(60, 64, 67, 0.3), 0 1px 3px 1px rgba(60, 64, 67, 0.15);\n",
              "    fill: var(--button-hover-fill-color);\n",
              "  }\n",
              "\n",
              "  .colab-df-quickchart-complete:disabled,\n",
              "  .colab-df-quickchart-complete:disabled:hover {\n",
              "    background-color: var(--disabled-bg-color);\n",
              "    fill: var(--disabled-fill-color);\n",
              "    box-shadow: none;\n",
              "  }\n",
              "\n",
              "  .colab-df-spinner {\n",
              "    border: 2px solid var(--fill-color);\n",
              "    border-color: transparent;\n",
              "    border-bottom-color: var(--fill-color);\n",
              "    animation:\n",
              "      spin 1s steps(1) infinite;\n",
              "  }\n",
              "\n",
              "  @keyframes spin {\n",
              "    0% {\n",
              "      border-color: transparent;\n",
              "      border-bottom-color: var(--fill-color);\n",
              "      border-left-color: var(--fill-color);\n",
              "    }\n",
              "    20% {\n",
              "      border-color: transparent;\n",
              "      border-left-color: var(--fill-color);\n",
              "      border-top-color: var(--fill-color);\n",
              "    }\n",
              "    30% {\n",
              "      border-color: transparent;\n",
              "      border-left-color: var(--fill-color);\n",
              "      border-top-color: var(--fill-color);\n",
              "      border-right-color: var(--fill-color);\n",
              "    }\n",
              "    40% {\n",
              "      border-color: transparent;\n",
              "      border-right-color: var(--fill-color);\n",
              "      border-top-color: var(--fill-color);\n",
              "    }\n",
              "    60% {\n",
              "      border-color: transparent;\n",
              "      border-right-color: var(--fill-color);\n",
              "    }\n",
              "    80% {\n",
              "      border-color: transparent;\n",
              "      border-right-color: var(--fill-color);\n",
              "      border-bottom-color: var(--fill-color);\n",
              "    }\n",
              "    90% {\n",
              "      border-color: transparent;\n",
              "      border-bottom-color: var(--fill-color);\n",
              "    }\n",
              "  }\n",
              "</style>\n",
              "\n",
              "  <script>\n",
              "    async function quickchart(key) {\n",
              "      const quickchartButtonEl =\n",
              "        document.querySelector('#' + key + ' button');\n",
              "      quickchartButtonEl.disabled = true;  // To prevent multiple clicks.\n",
              "      quickchartButtonEl.classList.add('colab-df-spinner');\n",
              "      try {\n",
              "        const charts = await google.colab.kernel.invokeFunction(\n",
              "            'suggestCharts', [key], {});\n",
              "      } catch (error) {\n",
              "        console.error('Error during call to suggestCharts:', error);\n",
              "      }\n",
              "      quickchartButtonEl.classList.remove('colab-df-spinner');\n",
              "      quickchartButtonEl.classList.add('colab-df-quickchart-complete');\n",
              "    }\n",
              "    (() => {\n",
              "      let quickchartButtonEl =\n",
              "        document.querySelector('#df-85953f78-50d1-43ae-b7c4-d798f268351a button');\n",
              "      quickchartButtonEl.style.display =\n",
              "        google.colab.kernel.accessAllowed ? 'block' : 'none';\n",
              "    })();\n",
              "  </script>\n",
              "</div>\n",
              "\n",
              "    </div>\n",
              "  </div>\n"
            ],
            "application/vnd.google.colaboratory.intrinsic+json": {
              "type": "dataframe",
              "summary": "{\n  \"name\": \"display(shoe_interactions\",\n  \"rows\": 8,\n  \"fields\": [\n    {\n      \"column\": \"interaction_id\",\n      \"properties\": {\n        \"dtype\": \"number\",\n        \"std\": 179.8977277873755,\n        \"min\": 1.0,\n        \"max\": 500.0,\n        \"num_unique_values\": 6,\n        \"samples\": [\n          500.0,\n          250.5,\n          375.25\n        ],\n        \"semantic_type\": \"\",\n        \"description\": \"\"\n      }\n    },\n    {\n      \"column\": \"id_user\",\n      \"properties\": {\n        \"dtype\": \"number\",\n        \"std\": 173.44858446407204,\n        \"min\": 1.0,\n        \"max\": 500.0,\n        \"num_unique_values\": 8,\n        \"samples\": [\n          10.378,\n          10.0,\n          500.0\n        ],\n        \"semantic_type\": \"\",\n        \"description\": \"\"\n      }\n    },\n    {\n      \"column\": \"shoe_detail_id\",\n      \"properties\": {\n        \"dtype\": \"number\",\n        \"std\": 169.15646204452796,\n        \"min\": 1.0,\n        \"max\": 500.0,\n        \"num_unique_values\": 8,\n        \"samples\": [\n          24.836,\n          25.0,\n          500.0\n        ],\n        \"semantic_type\": \"\",\n        \"description\": \"\"\n      }\n    }\n  ]\n}"
            }
          },
          "metadata": {}
        }
      ]
    },
    {
      "cell_type": "code",
      "source": [
        "# Plot distribution of interaction types\n",
        "plt.figure(figsize=(8, 6))\n",
        "sns.countplot(data=shoe_interactions, x='interaction_type', palette='viridis')\n",
        "plt.title(\"Distribution of Interaction Types\")\n",
        "plt.xlabel(\"Interaction Type\")\n",
        "plt.ylabel(\"Count\")\n",
        "plt.show()"
      ],
      "metadata": {
        "colab": {
          "base_uri": "https://localhost:8080/",
          "height": 651
        },
        "id": "bZgLDch9fKTu",
        "outputId": "a1b2d367-ba65-4657-8ac2-72345230bb82"
      },
      "execution_count": null,
      "outputs": [
        {
          "output_type": "stream",
          "name": "stderr",
          "text": [
            "<ipython-input-6-f80e3ee0bba4>:3: FutureWarning: \n",
            "\n",
            "Passing `palette` without assigning `hue` is deprecated and will be removed in v0.14.0. Assign the `x` variable to `hue` and set `legend=False` for the same effect.\n",
            "\n",
            "  sns.countplot(data=shoe_interactions, x='interaction_type', palette='viridis')\n"
          ]
        },
        {
          "output_type": "display_data",
          "data": {
            "text/plain": [
              "<Figure size 800x600 with 1 Axes>"
            ],
            "image/png": "[encoded data removed]"
          },
          "metadata": {}
        }
      ]
    },
    {
      "cell_type": "code",
      "source": [
        "# Check popular products based on interaction count\n",
        "top_products = shoe_interactions['shoe_detail_id'].value_counts().head(10)\n",
        "plt.figure(figsize=(10, 6))\n",
        "sns.barplot(x=top_products.index, y=top_products.values, palette='Blues_d')\n",
        "plt.title(\"Top 10 Most Interacted Products\")\n",
        "plt.xlabel(\"Shoe Detail ID\")\n",
        "plt.ylabel(\"Interaction Count\")\n",
        "plt.show()"
      ],
      "metadata": {
        "colab": {
          "base_uri": "https://localhost:8080/",
          "height": 651
        },
        "id": "0IpSxIemfRh7",
        "outputId": "850d7724-f572-4e60-cc02-5fdd93986d86"
      },
      "execution_count": null,
      "outputs": [
        {
          "output_type": "stream",
          "name": "stderr",
          "text": [
            "<ipython-input-7-c9e61626c864>:4: FutureWarning: \n",
            "\n",
            "Passing `palette` without assigning `hue` is deprecated and will be removed in v0.14.0. Assign the `x` variable to `hue` and set `legend=False` for the same effect.\n",
            "\n",
            "  sns.barplot(x=top_products.index, y=top_products.values, palette='Blues_d')\n"
          ]
        },
        {
          "output_type": "display_data",
          "data": {
            "text/plain": [
              "<Figure size 1000x600 with 1 Axes>"
            ],
            "image/png": "[encoded data removed]"
          },
          "metadata": {}
        }
      ]
    },
    {
      "cell_type": "code",
      "source": [
        "# Distribution of interactions over time (if timestamp is available)\n",
        "shoe_interactions['interaction_date'] = pd.to_datetime(shoe_interactions['interaction_date'], format='%m/%d/%Y %H:%M')\n",
        "\n",
        "# Confirm the conversion was successful\n",
        "print(\"\\nTimestamp column after conversion:\")\n",
        "print(shoe_interactions['interaction_date'].head())\n",
        "\n",
        "# Extracting month and year for monthly trend analysis\n",
        "shoe_interactions['month'] = shoe_interactions['interaction_date'].dt.to_period(\"M\")\n",
        "\n",
        "# Now we can analyze interactions over time\n",
        "monthly_interactions = shoe_interactions.groupby('month').size()\n",
        "\n",
        "plt.figure(figsize=(12, 6))\n",
        "monthly_interactions.plot(kind='line', marker='o', color='orange')\n",
        "plt.title(\"Monthly Interactions Over Time\")\n",
        "plt.xlabel(\"Month\")\n",
        "plt.ylabel(\"Number of Interactions\")\n",
        "plt.xticks(rotation=45)\n",
        "plt.show()"
      ],
      "metadata": {
        "colab": {
          "base_uri": "https://localhost:8080/",
          "height": 779
        },
        "id": "nuJ-t3RkfU32",
        "outputId": "f7b81e87-8aa9-4c1e-df60-4ad462653321"
      },
      "execution_count": null,
      "outputs": [
        {
          "output_type": "stream",
          "name": "stdout",
          "text": [
            "\n",
            "Timestamp column after conversion:\n",
            "0   2024-10-23 14:53:00\n",
            "1   2024-10-23 23:13:00\n",
            "2   2024-10-22 10:42:00\n",
            "3   2024-10-22 09:13:00\n",
            "4   2024-10-22 19:19:00\n",
            "Name: interaction_date, dtype: datetime64[ns]\n"
          ]
        },
        {
          "output_type": "stream",
          "name": "stderr",
          "text": [
            "/usr/local/lib/python3.10/dist-packages/pandas/plotting/_matplotlib/core.py:1561: UserWarning: Attempting to set identical low and high xlims makes transformation singular; automatically expanding.\n",
            "  ax.set_xlim(left, right)\n"
          ]
        },
        {
          "output_type": "display_data",
          "data": {
            "text/plain": [
              "<Figure size 1200x600 with 1 Axes>"
            ],
            "image/png": "[encoded data removed]"
          },
          "metadata": {}
        }
      ]
    },
    {
      "cell_type": "code",
      "source": [
        "# Interaction heatmap between users and items\n",
        "user_item_matrix = shoe_interactions.pivot_table(index='id_user', columns='shoe_detail_id', values='interaction_type', aggfunc='count', fill_value=0)\n",
        "plt.figure(figsize=(12, 8))\n",
        "sns.heatmap(user_item_matrix, cmap=\"YlGnBu\", cbar_kws={'label': 'Number of Interactions'})\n",
        "plt.title(\"User-Item Interaction Heatmap\")\n",
        "plt.xlabel(\"Shoe Detail ID\")\n",
        "plt.ylabel(\"User ID\")\n",
        "plt.show()"
      ],
      "metadata": {
        "colab": {
          "base_uri": "https://localhost:8080/",
          "height": 722
        },
        "id": "qD5e_bJQfblP",
        "outputId": "b20c23a6-643f-474d-da72-a7d93c4dbcc9"
      },
      "execution_count": null,
      "outputs": [
        {
          "output_type": "display_data",
          "data": {
            "text/plain": [
              "<Figure size 1200x800 with 2 Axes>"
            ],
            "image/png": "[encoded data removed]"
          },
          "metadata": {}
        }
      ]
    },
    {
      "cell_type": "code",
      "source": [
        "# Analyze user behavior - interactions per user\n",
        "interactions_per_user = shoe_interactions['id_user'].value_counts()\n",
        "plt.figure(figsize=(10, 6))\n",
        "sns.histplot(interactions_per_user, bins=20, kde=True, color='purple')\n",
        "plt.title(\"Distribution of Interactions per User\")\n",
        "plt.xlabel(\"Number of Interactions\")\n",
        "plt.ylabel(\"Frequency\")\n",
        "plt.show()"
      ],
      "metadata": {
        "colab": {
          "base_uri": "https://localhost:8080/",
          "height": 564
        },
        "id": "_MaEtzlIfhn3",
        "outputId": "7f0259ec-1e72-41e5-a9b3-35422f10cf1e"
      },
      "execution_count": null,
      "outputs": [
        {
          "output_type": "display_data",
          "data": {
            "text/plain": [
              "<Figure size 1000x600 with 1 Axes>"
            ],
            "image/png": "[encoded data removed]"
          },
          "metadata": {}
        }
      ]
    },
    {
      "cell_type": "code",
      "source": [
        "# Average number of interactions by type\n",
        "interaction_type_avg = shoe_interactions.groupby('interaction_type')['id_user'].count() / len(shoe_interactions['id_user'].unique())\n",
        "print(\"\\nAverage Interactions per User by Interaction Type:\")\n",
        "print(interaction_type_avg)"
      ],
      "metadata": {
        "colab": {
          "base_uri": "https://localhost:8080/"
        },
        "id": "bnHh5UQhflZI",
        "outputId": "8ea72f01-1159-410b-a5dc-77578f041cb2"
      },
      "execution_count": null,
      "outputs": [
        {
          "output_type": "stream",
          "name": "stdout",
          "text": [
            "\n",
            "Average Interactions per User by Interaction Type:\n",
            "interaction_type\n",
            "cart        6.60\n",
            "order       6.85\n",
            "view        6.10\n",
            "wishlist    5.45\n",
            "Name: id_user, dtype: float64\n"
          ]
        }
      ]
    },
    {
      "cell_type": "code",
      "source": [
        "# Shoe category popularity (assuming 'category' is available in sepatu_list)\n",
        "if 'kategori_sepatu' in sepatu_list.columns:\n",
        "    category_counts = sepatu_list['kategori_sepatu'].value_counts()\n",
        "    plt.figure(figsize=(10, 6))\n",
        "    sns.barplot(x=category_counts.index, y=category_counts.values, palette='coolwarm')\n",
        "    plt.title(\"Shoe Category Popularity\")\n",
        "    plt.xlabel(\"Category\")\n",
        "    plt.ylabel(\"Count\")\n",
        "    plt.xticks(rotation=45)\n",
        "    plt.show()"
      ],
      "metadata": {
        "colab": {
          "base_uri": "https://localhost:8080/",
          "height": 681
        },
        "id": "JNK6j7Zjfn-J",
        "outputId": "70de3bb5-785d-44b9-c0f5-22842699b523"
      },
      "execution_count": null,
      "outputs": [
        {
          "output_type": "stream",
          "name": "stderr",
          "text": [
            "<ipython-input-12-18043de8c064>:5: FutureWarning: \n",
            "\n",
            "Passing `palette` without assigning `hue` is deprecated and will be removed in v0.14.0. Assign the `x` variable to `hue` and set `legend=False` for the same effect.\n",
            "\n",
            "  sns.barplot(x=category_counts.index, y=category_counts.values, palette='coolwarm')\n"
          ]
        },
        {
          "output_type": "display_data",
          "data": {
            "text/plain": [
              "<Figure size 1000x600 with 1 Axes>"
            ],
            "image/png": "[encoded data removed]"
          },
          "metadata": {}
        }
      ]
    },
    {
      "cell_type": "markdown",
      "source": [
        "# Data Training"
      ],
      "metadata": {
        "id": "45M0XOD-erWW"
      }
    },
    {
      "cell_type": "code",
      "source": [
        "# Merge and preprocess datasets\n",
        "merged_data = pd.merge(shoe_interactions, sepatu_list, left_on='shoe_detail_id', right_on='sepatu_id')\n",
        "interaction_map = {'view': 1, 'wishlist': 2, 'order': 3, 'cart': 4}\n",
        "merged_data['interaction_value'] = merged_data['interaction_type'].map(interaction_map)\n",
        "user_item_matrix = merged_data.pivot_table(index='id_user', columns='shoe_detail_id', values='interaction_value', fill_value=0)\n",
        "\n",
        "# Ensure there are no NaN values in user-item matrix\n",
        "user_item_matrix = user_item_matrix.fillna(0)\n",
        "\n",
        "# Train collaborative filtering model using NMF\n",
        "model = NMF(n_components=15, init='random', random_state=0)\n",
        "W = model.fit_transform(user_item_matrix)\n",
        "H = model.components_"
      ],
      "metadata": {
        "id": "XwSJ4ndBay24"
      },
      "execution_count": 5,
      "outputs": []
    },
    {
      "cell_type": "code",
      "source": [
        "# Recommendation function for both new and existing users\n",
        "def recommend_items(user_id, W, H, user_item_matrix, product_df, top_n=10, new_user=False):\n",
        "    if new_user:\n",
        "        # For a new user, recommend top popular items based on existing user interactions\n",
        "        item_popularity = user_item_matrix.sum(axis=0).sort_values(ascending=False)\n",
        "        popular_item_ids = item_popularity.index[:top_n]\n",
        "        recommended_products = product_df[product_df['sepatu_id'].isin(popular_item_ids)][['sepatu_id', 'nama_sepatu']]\n",
        "    else:\n",
        "        # For an existing user, recommend items based on learned preferences\n",
        "        user_index = user_item_matrix.index.get_loc(user_id)\n",
        "        scores = W[user_index].dot(H)\n",
        "        item_indices = np.argsort(scores)[::-1][:top_n]\n",
        "        recommended_ids = user_item_matrix.columns[item_indices]\n",
        "        recommended_products = product_df[product_df['sepatu_id'].isin(recommended_ids)][['sepatu_id', 'nama_sepatu']]\n",
        "    return recommended_products"
      ],
      "metadata": {
        "id": "BBs9_--ha4q6"
      },
      "execution_count": 6,
      "outputs": []
    },
    {
      "cell_type": "code",
      "source": [
        "# Evaluation metrics\n",
        "def precision_at_k(actual_items, recommended_items, k):\n",
        "    recommended_at_k = recommended_items[:k]\n",
        "    hits = len(set(actual_items) & set(recommended_at_k))\n",
        "    return hits / k\n",
        "\n",
        "def recall_at_k(actual_items, recommended_items, k):\n",
        "    recommended_at_k = recommended_items[:k]\n",
        "    hits = len(set(actual_items) & set(recommended_at_k))\n",
        "    return hits / len(actual_items) if actual_items else 0\n",
        "\n",
        "def mean_average_precision_at_k(actual_items, recommended_items, k):\n",
        "    recommended_at_k = recommended_items[:k]\n",
        "    binary_relevance = [1 if item in actual_items else 0 for item in recommended_at_k]\n",
        "    return average_precision_score(binary_relevance, binary_relevance)\n",
        "\n",
        "def accuracy_at_k(actual_items, recommended_items, k=10):\n",
        "    if not actual_items:\n",
        "        return 0\n",
        "    recommended_at_k = recommended_items[:k]\n",
        "    hits = len(set(recommended_at_k) & set(actual_items))\n",
        "    accuracy = hits / len(actual_items)\n",
        "    return accuracy"
      ],
      "metadata": {
        "id": "hmFejPnta8wN"
      },
      "execution_count": 32,
      "outputs": []
    },
    {
      "cell_type": "code",
      "source": [
        "# Function to update recommendations as the user interacts\n",
        "def update_user_recommendations(user_id, user_item_matrix, interaction, item_id, W, H, product_df, top_n=10):\n",
        "    # Update the user-item matrix with the new interaction\n",
        "    user_item_matrix.loc[user_id, item_id] = interaction\n",
        "\n",
        "    # Ensure no NaNs are present after the update\n",
        "    user_item_matrix = user_item_matrix.fillna(0)\n",
        "\n",
        "    # Retrain the model with the updated user-item matrix\n",
        "    W = model.fit_transform(user_item_matrix)\n",
        "    H = model.components_\n",
        "\n",
        "    # Get updated recommendations for the user\n",
        "    recommendations = recommend_items(user_id, W, H, user_item_matrix, product_df, top_n=top_n)\n",
        "    return recommendations"
      ],
      "metadata": {
        "id": "gsjBeUVra_Or"
      },
      "execution_count": 20,
      "outputs": []
    },
    {
      "cell_type": "code",
      "source": [
        "# Evaluate recommendations for a specific user\n",
        "def evaluate_user_recommendations(user_id, W, H, user_item_matrix, product_df, k=10):\n",
        "    # Actual items user interacted with\n",
        "    actual_items = user_item_matrix.columns[user_item_matrix.loc[user_id] > 0].tolist()\n",
        "\n",
        "    # Recommended items\n",
        "    recommended_items = recommend_items(user_id, W, H, user_item_matrix, product_df, top_n=k)['sepatu_id'].tolist()\n",
        "\n",
        "    if actual_items:\n",
        "        precision = precision_at_k(actual_items, recommended_items, k)\n",
        "        recall = recall_at_k(actual_items, recommended_items, k)\n",
        "        map_score = mean_average_precision_at_k(actual_items, recommended_items, k)\n",
        "        accuracy = accuracy_at_k(actual_items, recommended_items, k)\n",
        "\n",
        "        return precision, recall, map_score, accuracy\n",
        "    else:\n",
        "        return None, None, None, None\n"
      ],
      "metadata": {
        "id": "Yi4MKCvReDWY"
      },
      "execution_count": 33,
      "outputs": []
    },
    {
      "cell_type": "code",
      "source": [
        "# Test with a new user and existing user\n",
        "new_user_recommendations = recommend_items(user_id=None, W=W, H=H, user_item_matrix=user_item_matrix, product_df=sepatu_list, top_n=10, new_user=True)\n",
        "print(\"Recommendations for a new user:\\n\", new_user_recommendations)"
      ],
      "metadata": {
        "colab": {
          "base_uri": "https://localhost:8080/"
        },
        "id": "wT-5ZfKzbBSm",
        "outputId": "2dc7ec5c-e516-49df-fc65-882e94cc9e6e"
      },
      "execution_count": 34,
      "outputs": [
        {
          "output_type": "stream",
          "name": "stdout",
          "text": [
            "Recommendations for a new user:\n",
            "     sepatu_id                                        nama_sepatu\n",
            "0           1                           Nokha Boots Harlow Black\n",
            "1           2                      AXEL BROWN Chelsea High Boots\n",
            "3           4                            Azcost Allison Original\n",
            "4           5                                   Parabellum COBRA\n",
            "6           7  Lennox Oliv Moc Toe Boots Rugged Style Crazy H...\n",
            "19         20                               NovaBlast 4 Platinum\n",
            "30         31                               leather pantofel d2a\n",
            "32         33                             oxford quarter cap toe\n",
            "36         37                                   Francis Pantofel\n",
            "37         38                     Brick Mansions Slip On Mission\n"
          ]
        }
      ]
    },
    {
      "cell_type": "code",
      "source": [
        "# Example user recommendation and evaluation\n",
        "user_id = 7  # Sesuaikan dengan User ID\n",
        "recommendations = recommend_items(user_id, W, H, user_item_matrix, sepatu_list, top_n=10)\n",
        "print(f\"Recommendations for user_id {user_id}:\\n\", recommendations)\n",
        "\n",
        "precision, recall, map_score, accuracy = evaluate_user_recommendations(user_id, W, H, user_item_matrix, sepatu_list, k=10)\n",
        "print(f\"Evaluation for user_id {user_id}:\")\n",
        "print(f\"Precision@10: {precision}\")\n",
        "print(f\"Recall@10: {recall}\")\n",
        "print(f\"MAP@10: {map_score}\")\n",
        "print(f\"Accuracy@10: {accuracy}\")"
      ],
      "metadata": {
        "colab": {
          "base_uri": "https://localhost:8080/"
        },
        "id": "2rqH60PIbFCJ",
        "outputId": "fd64bdb7-dd05-421e-ede0-99703c38569d"
      },
      "execution_count": 37,
      "outputs": [
        {
          "output_type": "stream",
          "name": "stdout",
          "text": [
            "Recommendations for user_id 7:\n",
            "     sepatu_id                                     nama_sepatu\n",
            "0           1                        Nokha Boots Harlow Black\n",
            "4           5                                Parabellum COBRA\n",
            "7           8                               MANCOW High Boots\n",
            "17         18                           Ardiles Nfinity Burst\n",
            "21         22                       Glossy Beige Italian Sole\n",
            "26         27                      Satin Crystal Italian Sole\n",
            "28         29                                   Celline Heels\n",
            "30         31                            leather pantofel d2a\n",
            "37         38                  Brick Mansions Slip On Mission\n",
            "42         43  Converse 70S OX Black White Egret Low Original\n",
            "Evaluation for user_id 7:\n",
            "Precision@10: 1.0\n",
            "Recall@10: 0.5\n",
            "MAP@10: 1.0\n",
            "Accuracy@10: 0.5\n"
          ]
        }
      ]
    },
    {
      "cell_type": "code",
      "source": [
        "metrics = ['Precision@10', 'Recall@10', 'MAP@10', 'Accuracy@10']\n",
        "values = [precision, recall, map_score, accuracy]\n",
        "\n",
        "plt.figure(figsize=(8, 6))\n",
        "plt.bar(metrics, values, color=['skyblue', 'salmon', 'lightgreen', 'yellow'])\n",
        "plt.ylim(0, 1)\n",
        "\n",
        "# Adding labels and title\n",
        "plt.xlabel('Evaluation Metrics')\n",
        "plt.ylabel('Score')\n",
        "plt.title(f'Evaluation Metrics for User ID: {user_id}')\n",
        "plt.text(0, precision + 0.02, f'{precision:.2f}', ha='center')\n",
        "plt.text(1, recall + 0.02, f'{recall:.2f}', ha='center')\n",
        "plt.text(2, map_score + 0.02, f'{map_score:.2f}', ha='center')\n",
        "plt.text(3, accuracy + 0.02, f'{accuracy:.2f}', ha='center')\n",
        "\n",
        "# Display the plot\n",
        "plt.show()"
      ],
      "metadata": {
        "colab": {
          "base_uri": "https://localhost:8080/",
          "height": 564
        },
        "id": "dq1WWVuTjbDI",
        "outputId": "a48669e9-55b2-4d8e-ff98-94e5041e62cb"
      },
      "execution_count": 41,
      "outputs": [
        {
          "output_type": "display_data",
          "data": {
            "text/plain": [
              "<Figure size 800x600 with 1 Axes>"
            ],
            "image/png": "[encoded data removed]"
          },
          "metadata": {}
        }
      ]
    },
    {
      "cell_type": "markdown",
      "source": [
        "# Output CSV"
      ],
      "metadata": {
        "id": "kUcdJCEaZxtf"
      }
    },
    {
      "cell_type": "code",
      "source": [
        "# Generate recommendations for each user\n",
        "def get_user_recommendations(user_ids, W, H, user_item_matrix, product_df, top_n=10):\n",
        "    recommendations = []\n",
        "\n",
        "    for user_id in user_ids:\n",
        "        # Get recommendations for the current user\n",
        "        recommended_products = recommend_items(\n",
        "            user_id=user_id,\n",
        "            W=W,\n",
        "            H=H,\n",
        "            user_item_matrix=user_item_matrix,\n",
        "            product_df=product_df,\n",
        "            top_n=top_n\n",
        "        )\n",
        "\n",
        "        # Store recommendations in the format: user_id, recommended_shoe_id\n",
        "        for shoe_id in recommended_products['sepatu_id']:\n",
        "            recommendations.append({\"user_id\": user_id, \"recommended_shoe_id\": shoe_id})\n",
        "\n",
        "    # Convert recommendations list to DataFrame\n",
        "    recommendations_df = pd.DataFrame(recommendations)\n",
        "    return recommendations_df\n",
        "\n",
        "# Example: generate recommendations for all users in the interaction matrix\n",
        "user_ids = user_item_matrix.index.tolist()  # List of all user IDs\n",
        "recommendations_df = get_user_recommendations(user_ids, W, H, user_item_matrix, sepatu_list, top_n=10)\n",
        "\n",
        "# Save recommendations to CSV\n",
        "recommendations_df.to_csv(\"user_recommendations.csv\", index=False)\n",
        "print(\"User recommendations saved as user_recommendations.csv\")\n"
      ],
      "metadata": {
        "colab": {
          "base_uri": "https://localhost:8080/"
        },
        "id": "wTaxKd1iZvc5",
        "outputId": "03d7aa48-a927-4f98-b766-dd00e1ef42d1"
      },
      "execution_count": null,
      "outputs": [
        {
          "output_type": "stream",
          "name": "stdout",
          "text": [
            "User recommendations saved as user_recommendations.csv\n"
          ]
        }
      ]
    }
  ]
}